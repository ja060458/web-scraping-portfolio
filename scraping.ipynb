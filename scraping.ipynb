{
 "cells": [
  {
   "cell_type": "code",
   "execution_count": 8,
   "metadata": {},
   "outputs": [
    {
     "name": "stdout",
     "output_type": "stream",
     "text": [
      "ネストされたfor文とif文の例:\n",
      "現在の値: i=1, j=10, k=100\n",
      "現在の値: i=1, j=10, k=200\n",
      "現在の値: i=1, j=10, k=300\n",
      "現在の値: i=1, j=20, k=100\n",
      "現在の値: i=1, j=20, k=200\n",
      "現在の値: i=1, j=20, k=300\n",
      "現在の値: i=1, j=30, k=100\n",
      "現在の値: i=1, j=30, k=200\n",
      "現在の値: i=1, j=30, k=300\n",
      "現在の値: i=2, j=10, k=100\n",
      "現在の値: i=2, j=10, k=200\n",
      "現在の値: i=2, j=10, k=300\n",
      "現在の値: i=2, j=20, k=100\n",
      "現在の値: i=2, j=20, k=200\n",
      "特定の条件に一致しました！\n"
     ]
    }
   ],
   "source": [
    "l1 = [1, 2, 3]\n",
    "l2 = [10, 20, 30]\n",
    "l3 = [100, 200, 300]\n",
    "\n",
    "print(\"ネストされたfor文とif文の例:\")\n",
    "for i in l1:\n",
    "    for j in l2:\n",
    "        for k in l3:\n",
    "            print(f\"現在の値: i={i}, j={j}, k={k}\")\n",
    "            \n",
    "            if i == 2 and j == 20 and k == 200:\n",
    "                print('特定の条件に一致しました！')\n",
    "                break\n",
    "        else:\n",
    "            continue\n",
    "        break\n",
    "    else:\n",
    "        continue\n",
    "    break\n"
   ]
  },
  {
   "cell_type": "code",
   "execution_count": 4,
   "metadata": {},
   "outputs": [
    {
     "name": "stdout",
     "output_type": "stream",
     "text": [
      "外側のループ: i = 0\n",
      "外側のループの終わり\n",
      "外側のループ: i = 1\n",
      "  条件1満たす: i > 0\n",
      "    中間のループ: j = 0\n",
      "    中間のループ: j = 1\n",
      "      条件2満たす: j == 1\n",
      "        内側のループ: k = 0\n",
      "          条件3満たす: k % 2 == 0\n",
      "          結果: i=1, j=1, k=0\n",
      "        内側のループ: k = 1\n",
      "外側のループの終わり\n",
      "外側のループ: i = 2\n",
      "  条件1満たす: i > 0\n",
      "    中間のループ: j = 0\n",
      "    中間のループ: j = 1\n",
      "      条件2満たす: j == 1\n",
      "        内側のループ: k = 0\n",
      "          条件3満たす: k % 2 == 0\n",
      "          結果: i=2, j=1, k=0\n",
      "        内側のループ: k = 1\n",
      "外側のループの終わり\n",
      "すべてのループ終了\n"
     ]
    }
   ],
   "source": [
    "for i in range(3):\n",
    "    print(f\"外側のループ: i = {i}\")\n",
    "    if i > 0:\n",
    "        print(f\"  条件1満たす: i > 0\")\n",
    "        for j in range(2):\n",
    "            print(f\"    中間のループ: j = {j}\")\n",
    "            if j == 1:\n",
    "                print(f\"      条件2満たす: j == 1\")\n",
    "                for k in range(2):\n",
    "                    print(f\"        内側のループ: k = {k}\")\n",
    "                    if k % 2 == 0:\n",
    "                        print(f\"          条件3満たす: k % 2 == 0\")\n",
    "                        print(f\"          結果: i={i}, j={j}, k={k}\")\n",
    "    print(\"外側のループの終わり\")\n",
    "print(\"すべてのループ終了\")\n"
   ]
  },
  {
   "cell_type": "code",
   "execution_count": 5,
   "metadata": {},
   "outputs": [
    {
     "name": "stdout",
     "output_type": "stream",
     "text": [
      "factorial() called with n = 4\n",
      "factorial() called with n = 3\n",
      "factorial() called with n = 2\n",
      "factorial() called with n = 1\n",
      "-> factorial(1) returns 1\n",
      "-> factorial(2) returns 2\n",
      "-> factorial(3) returns 6\n",
      "-> factorial(4) returns 24\n",
      "24\n"
     ]
    }
   ],
   "source": [
    "def factorial(n):\n",
    "    print(f\"factorial() called with n = {n}\")\n",
    "    if n <= 1:\n",
    "        print(f\"-> factorial({n}) returns 1\")\n",
    "        return 1\n",
    "    else:\n",
    "        result = n * factorial(n - 1)\n",
    "        print(f\"-> factorial({n}) returns {result}\")\n",
    "        return result\n",
    "\n",
    "print(factorial(4))\n"
   ]
  },
  {
   "cell_type": "code",
   "execution_count": null,
   "metadata": {},
   "outputs": [],
   "source": []
  },
  {
   "cell_type": "code",
   "execution_count": null,
   "metadata": {},
   "outputs": [],
   "source": []
  },
  {
   "cell_type": "code",
   "execution_count": null,
   "metadata": {},
   "outputs": [],
   "source": []
  },
  {
   "cell_type": "code",
   "execution_count": null,
   "metadata": {},
   "outputs": [],
   "source": []
  },
  {
   "cell_type": "code",
   "execution_count": null,
   "metadata": {},
   "outputs": [],
   "source": []
  },
  {
   "cell_type": "code",
   "execution_count": null,
   "metadata": {},
   "outputs": [],
   "source": []
  },
  {
   "cell_type": "code",
   "execution_count": null,
   "metadata": {},
   "outputs": [],
   "source": []
  },
  {
   "cell_type": "code",
   "execution_count": null,
   "metadata": {},
   "outputs": [],
   "source": []
  },
  {
   "cell_type": "code",
   "execution_count": null,
   "metadata": {},
   "outputs": [],
   "source": []
  }
 ],
 "metadata": {
  "kernelspec": {
   "display_name": "Python 3",
   "language": "python",
   "name": "python3"
  },
  "language_info": {
   "codemirror_mode": {
    "name": "ipython",
    "version": 3
   },
   "file_extension": ".py",
   "mimetype": "text/x-python",
   "name": "python",
   "nbconvert_exporter": "python",
   "pygments_lexer": "ipython3",
   "version": "3.13.1"
  }
 },
 "nbformat": 4,
 "nbformat_minor": 2
}
